{
 "cells": [
  {
   "cell_type": "markdown",
   "metadata": {
    "id": "kPyGlTFTe2mJ"
   },
   "source": [
    "# From models to APIs\n",
    "\n",
    "**Machine Learning for Production**\n",
    "Master X-ITE\n",
    "\n",
    "Author: Jérémie Jakubowicz, Charles Cazals"
   ]
  },
  {
   "cell_type": "markdown",
   "metadata": {
    "id": "0yiqxCEsws5L"
   },
   "source": [
    "### GET Requests\n"
   ]
  },
  {
   "cell_type": "markdown",
   "metadata": {
    "id": "bYx-rDbsy6vG"
   },
   "source": [
    "We'll see later, `POST`, `PUT`, `PATCH` and `DELETE` requests result in modifying the state, *i.e.*, the data. `GET` requests aim at querying the data."
   ]
  },
  {
   "cell_type": "markdown",
   "metadata": {
    "id": "4JJu6ngiBYyF"
   },
   "source": [
    "Let's use the `requests` Python library"
   ]
  },
  {
   "cell_type": "code",
   "execution_count": 23,
   "metadata": {
    "id": "URkFzaHfB2u0"
   },
   "outputs": [],
   "source": [
    "import requests"
   ]
  },
  {
   "cell_type": "code",
   "execution_count": 24,
   "metadata": {
    "id": "2x9WiFokB4wf"
   },
   "outputs": [],
   "source": [
    "import requests  # Import the requests library\n",
    "\n",
    "# Query URL\n",
    "url = 'https://random-data-api.com/api/users/random_user'\n",
    "\n",
    "response = requests.get(url)  # Make a GET request to the URL"
   ]
  },
  {
   "cell_type": "markdown",
   "metadata": {
    "id": "ufX7mvG1ELTP"
   },
   "source": [
    "<img src='https://www.dataquest.io/wp-content/uploads/2019/09/api-request.svg'/>"
   ]
  },
  {
   "cell_type": "code",
   "execution_count": 25,
   "metadata": {
    "colab": {
     "base_uri": "https://localhost:8080/"
    },
    "id": "KILZv0jgEKK1",
    "outputId": "6c526f87-6b67-48c1-d605-cf3f8a0bdb3a"
   },
   "outputs": [
    {
     "name": "stdout",
     "output_type": "stream",
     "text": [
      "Request returned 200 : 'OK'\n",
      "{\"id\":2010,\"uid\":\"f3582129-59f1-4c65-93fc-bf8f062dc5a9\",\"password\":\"X6Y3NFHkeR\",\"first_name\":\"Monica\",\"last_name\":\"Erdman\",\"username\":\"monica.erdman\",\"email\":\"monica.erdman@email.com\",\"avatar\":\"https://robohash.org/quaevelitid.png?size=300x300\\u0026set=set1\",\"gender\":\"Polygender\",\"phone_number\":\"+297 1-460-091-7920 x68876\",\"social_insurance_number\":\"201889912\",\"date_of_birth\":\"1964-08-04\",\"employment\":{\"title\":\"Banking Designer\",\"key_skill\":\"Teamwork\"},\"address\":{\"city\":\"South Bufordland\",\"street_name\":\"Teodora Circle\",\"street_address\":\"94094 Desire River\",\"zip_code\":\"90394-8548\",\"state\":\"Idaho\",\"country\":\"United States\",\"coordinates\":{\"lat\":-18.786245039911975,\"lng\":73.47614867081856}},\"credit_card\":{\"cc_number\":\"4430-7519-3462-1905\"},\"subscription\":{\"plan\":\"Essential\",\"status\":\"Idle\",\"payment_method\":\"Paypal\",\"term\":\"Monthly\"}}\n"
     ]
    }
   ],
   "source": [
    "# Print response code (and associated text)\n",
    "print(f\"Request returned {response.status_code} : '{response.reason}'\")\n",
    "# Print response data\n",
    "print(response.text)"
   ]
  },
  {
   "cell_type": "markdown",
   "metadata": {
    "id": "YhiC-hNihAf4"
   },
   "source": [
    "We see that the response code is 200. It means that the request went well. We'll get back to response code in the next section."
   ]
  },
  {
   "cell_type": "markdown",
   "metadata": {
    "id": "-QckJX4KHtvp"
   },
   "source": [
    "Let's focus on response data now. The trained eye recognizes JavaScript Object Notation [JSON](https://fr.wikipedia.org/wiki/JavaScript_Object_Notation) format for the response data. Pretty printing libraries are helpful to improve response readability"
   ]
  },
  {
   "cell_type": "code",
   "execution_count": 26,
   "metadata": {
    "colab": {
     "base_uri": "https://localhost:8080/"
    },
    "id": "l1cIhx-eHkkO",
    "outputId": "50600d62-b56e-4f0e-9d98-1a9c881a8bb8"
   },
   "outputs": [
    {
     "name": "stdout",
     "output_type": "stream",
     "text": [
      "{'address': {'city': 'South Bufordland',\n",
      "             'coordinates': {'lat': -18.786245039911975,\n",
      "                             'lng': 73.47614867081856},\n",
      "             'country': 'United States',\n",
      "             'state': 'Idaho',\n",
      "             'street_address': '94094 Desire River',\n",
      "             'street_name': 'Teodora Circle',\n",
      "             'zip_code': '90394-8548'},\n",
      " 'avatar': 'https://robohash.org/quaevelitid.png?size=300x300&set=set1',\n",
      " 'credit_card': {'cc_number': '4430-7519-3462-1905'},\n",
      " 'date_of_birth': '1964-08-04',\n",
      " 'email': 'monica.erdman@email.com',\n",
      " 'employment': {'key_skill': 'Teamwork', 'title': 'Banking Designer'},\n",
      " 'first_name': 'Monica',\n",
      " 'gender': 'Polygender',\n",
      " 'id': 2010,\n",
      " 'last_name': 'Erdman',\n",
      " 'password': 'X6Y3NFHkeR',\n",
      " 'phone_number': '+297 1-460-091-7920 x68876',\n",
      " 'social_insurance_number': '201889912',\n",
      " 'subscription': {'payment_method': 'Paypal',\n",
      "                  'plan': 'Essential',\n",
      "                  'status': 'Idle',\n",
      "                  'term': 'Monthly'},\n",
      " 'uid': 'f3582129-59f1-4c65-93fc-bf8f062dc5a9',\n",
      " 'username': 'monica.erdman'}\n"
     ]
    }
   ],
   "source": [
    "payload = response.json()  # Parse `response.text` into JSON\n",
    "\n",
    "from pprint import pprint\n",
    "pprint(payload)"
   ]
  },
  {
   "cell_type": "markdown",
   "metadata": {
    "id": "xaEzR4k0huLL"
   },
   "source": [
    "### HTTP response codes"
   ]
  },
  {
   "cell_type": "markdown",
   "metadata": {
    "id": "C6sfOcGkh0F_"
   },
   "source": [
    "The following holds for any HTTP request, not only for GET request.\n",
    "\n",
    "The codes are numbers between 100 and 599 that are sorted with the following meanings:\n",
    "- **100-199: informational response** – the request was received, continuing process\n",
    "- **200-299: successful** – the request was successfully received, understood, and accepted\n",
    "- **300-399: redirection** – further action needs to be taken in order to complete the request\n",
    "- **400-499: client error** – the request contains bad syntax or cannot be fulfilled\n",
    "- **500-599: server error** – the server failed to fulfil an apparently valid request"
   ]
  },
  {
   "cell_type": "markdown",
   "metadata": {
    "id": "SBD0IsInjP-A"
   },
   "source": [
    "Here are some common examples:\n",
    "- 100-199:\n",
    "  + **100 Continue**\n",
    "    The server has received the request headers and the client should proceed to send the request body \n",
    "  + **101 Switching Protocols**\n",
    "    The requester has asked the server to switch protocols and the server has agreed to do so\n",
    "- 200-299:\n",
    "  + **200 OK**\n",
    "    Standard response for successful HTTP requests\n",
    "  + **201 Created**\n",
    "    The request has been fulfilled, resulting in the creation of a new resource\n",
    "  + **202 Accepted**\n",
    "    The request has been accepted for processing, but the processing has not been completed\n",
    "- 300-399:\n",
    "  + **302 Found**\n",
    "    Tells the client to look at (browse to) another URL\n",
    "  + **303 See Other**\n",
    "    The response to the request can be found under another URI using the GET method. When received in response to a POST (or PUT/DELETE), the client should presume that the server has received the data and should issue a new GET request to the given URI\n",
    "  + **304 Not Modified**\n",
    "    Indicates that the resource has not been modified since the version specified by the request headers If-Modified-Since or If-None-Match. In such case, there is no need to retransmit the resource since the client still has a previously-downloaded copy\n",
    "  + **305 Use Proxy**\n",
    "    The requested resource is available only through a proxy, the address for which is provided in the response\n",
    "- 400-499\n",
    "  + **400 Bad Request**\n",
    "    The server cannot or will not process the request due to an apparent client error\n",
    "  + **401 Unauthorized**\n",
    "    Similar to 403 Forbidden, but specifically for use when authentication is required and has failed or has not yet been provided\n",
    "  + **403 Forbidden**\n",
    "    The request contained valid data and was understood by the server, but the server is refusing action\n",
    "  + **404 Not Found**\n",
    "    The most famous error code. The requested resource could not be found but may be available in the future\n",
    "- 500-599\n",
    "  + **500 Internal Server Error**\n",
    "    A generic error message, given when an unexpected condition was encountered and no more specific message is suitable\n",
    "  + **501 Not Implemented**\n",
    "    The server either does not recognize the request method, or it lacks the ability to fulfil the request\n",
    "  + **503 Service Unavailable**\n",
    "    The server cannot handle the request"
   ]
  },
  {
   "cell_type": "markdown",
   "metadata": {
    "id": "zi2spNjZDLvo"
   },
   "source": [
    "### Requests parameters"
   ]
  },
  {
   "cell_type": "markdown",
   "metadata": {
    "id": "HJPJvPPiIw2s"
   },
   "source": [
    "HTTP requests can take parameters, either directly in the url thanks to the '?param1=value1&param2=value2&...' syntax, or using the `params` keyword with `requests.get`. Let's start with the '?param=value' inside the url syntax"
   ]
  },
  {
   "cell_type": "code",
   "execution_count": 5,
   "metadata": {
    "colab": {
     "base_uri": "https://localhost:8080/"
    },
    "id": "cOHWxP9gtZPr",
    "outputId": "5ae521e1-ac63-4d25-9b67-6991f4ace766"
   },
   "outputs": [
    {
     "name": "stdout",
     "output_type": "stream",
     "text": [
      "<?xml version=\"1.0\" encoding=\"UTF-8\"?>\n",
      "<objects type=\"array\">\n",
      "  <object>\n",
      "    <id type=\"integer\">1219</id>\n",
      "    <uid>7e6bced8-c84f-47b1-b89a-18055647af9f</uid>\n",
      "    <password>bEkMrGopL3</password>\n",
      "    <first-name>Mitchel</first-name>\n",
      "    <last-name>Kovacek</last-name>\n",
      "    <username>mitchel.kovacek</username>\n",
      "    <email>mitchel.kovacek@email.com</email>\n",
      "    <avatar>https://robohash.org/autemarchitectoquia.png?size=300x300&amp;set=set1</avatar>\n",
      "    <gender>Agender</gender>\n",
      "    <phone-number>+242 691.521.6065 x386</phone-number>\n",
      "    <social-insurance-number>928412279</social-insurance-number>\n",
      "    <date-of-birth type=\"date\">1993-02-04</date-of-birth>\n",
      "    <employment>\n",
      "      <title>Customer Marketing Manager</title>\n",
      "      <key-skill>Organisation</key-skill>\n",
      "    </employment>\n",
      "    <address>\n",
      "      <city>Carleebury</city>\n",
      "      <street-name>Nakesha Manor</street-name>\n",
      "      <street-address>83501 Sydney Rue</street-address>\n",
      "      <zip-code>61790-3846</zip-code>\n",
      "      <state>Vermont</state>\n",
      "      <country>United States</country>\n",
      "      <coordinates>\n",
      "        <lat type=\"float\">-65.24508029383006</lat>\n",
      "        <lng type=\"float\">-10.619676618800526</lng>\n",
      "      </coordinates>\n",
      "    </address>\n",
      "    <credit-card>\n",
      "      <cc-number>5431-0500-0454-6589</cc-number>\n",
      "    </credit-card>\n",
      "    <subscription>\n",
      "      <plan>Standard</plan>\n",
      "      <status>Pending</status>\n",
      "      <payment-method>Paypal</payment-method>\n",
      "      <term>Full subscription</term>\n",
      "    </subscription>\n",
      "  </object>\n",
      "  <object>\n",
      "    <id type=\"integer\">3405</id>\n",
      "    <uid>26de037f-5398-4895-9193-f5e47a4d39cb</uid>\n",
      "    <password>wr57SDx2R9</password>\n",
      "    <first-name>Sabra</first-name>\n",
      "    <last-name>Mohr</last-name>\n",
      "    <username>sabra.mohr</username>\n",
      "    <email>sabra.mohr@email.com</email>\n",
      "    <avatar>https://robohash.org/velitconsequaturaccusamus.png?size=300x300&amp;set=set1</avatar>\n",
      "    <gender>Genderfluid</gender>\n",
      "    <phone-number>+223 902.566.3888 x00577</phone-number>\n",
      "    <social-insurance-number>691033187</social-insurance-number>\n",
      "    <date-of-birth type=\"date\">1985-07-14</date-of-birth>\n",
      "    <employment>\n",
      "      <title>Forward Planner</title>\n",
      "      <key-skill>Confidence</key-skill>\n",
      "    </employment>\n",
      "    <address>\n",
      "      <city>Bednarberg</city>\n",
      "      <street-name>Landon Vista</street-name>\n",
      "      <street-address>609 Simonis Port</street-address>\n",
      "      <zip-code>17347</zip-code>\n",
      "      <state>New York</state>\n",
      "      <country>United States</country>\n",
      "      <coordinates>\n",
      "        <lat type=\"float\">-21.36779267026168</lat>\n",
      "        <lng type=\"float\">152.49043380437712</lng>\n",
      "      </coordinates>\n",
      "    </address>\n",
      "    <credit-card>\n",
      "      <cc-number>5257-4962-7400-9652</cc-number>\n",
      "    </credit-card>\n",
      "    <subscription>\n",
      "      <plan>Starter</plan>\n",
      "      <status>Blocked</status>\n",
      "      <payment-method>Money transfer</payment-method>\n",
      "      <term>Full subscription</term>\n",
      "    </subscription>\n",
      "  </object>\n",
      "</objects>\n",
      "\n"
     ]
    }
   ],
   "source": [
    "url = 'https://random-data-api.com/api/users/random_user?size=2&is_xml=true'\n",
    "response = requests.get(url)\n",
    "if response.ok:\n",
    "    print(response.text)"
   ]
  },
  {
   "cell_type": "markdown",
   "metadata": {
    "id": "XSqmr0y3tiW6"
   },
   "source": [
    "Now with the `params` keyword"
   ]
  },
  {
   "cell_type": "code",
   "execution_count": 6,
   "metadata": {
    "colab": {
     "base_uri": "https://localhost:8080/"
    },
    "id": "z8SRHykKzQRK",
    "outputId": "8421b0ef-0c2d-4256-df5f-bb1443507a5a"
   },
   "outputs": [
    {
     "name": "stdout",
     "output_type": "stream",
     "text": [
      "<?xml version=\"1.0\" encoding=\"UTF-8\"?>\n",
      "<objects type=\"array\">\n",
      "  <object>\n",
      "    <id type=\"integer\">1465</id>\n",
      "    <uid>005a8de0-a047-40aa-a1cb-cdec4188d36c</uid>\n",
      "    <password>mEc6aTyqji</password>\n",
      "    <first-name>Melodie</first-name>\n",
      "    <last-name>Schumm</last-name>\n",
      "    <username>melodie.schumm</username>\n",
      "    <email>melodie.schumm@email.com</email>\n",
      "    <avatar>https://robohash.org/quoautiusto.png?size=300x300&amp;set=set1</avatar>\n",
      "    <gender>Agender</gender>\n",
      "    <phone-number>+255 655-238-9635 x77911</phone-number>\n",
      "    <social-insurance-number>452649676</social-insurance-number>\n",
      "    <date-of-birth type=\"date\">1993-11-03</date-of-birth>\n",
      "    <employment>\n",
      "      <title>Mining Facilitator</title>\n",
      "      <key-skill>Problem solving</key-skill>\n",
      "    </employment>\n",
      "    <address>\n",
      "      <city>McCulloughtown</city>\n",
      "      <street-name>Stoltenberg Drive</street-name>\n",
      "      <street-address>70369 Fahey Ford</street-address>\n",
      "      <zip-code>62698</zip-code>\n",
      "      <state>Nevada</state>\n",
      "      <country>United States</country>\n",
      "      <coordinates>\n",
      "        <lat type=\"float\">57.30272652841259</lat>\n",
      "        <lng type=\"float\">-94.90217001905222</lng>\n",
      "      </coordinates>\n",
      "    </address>\n",
      "    <credit-card>\n",
      "      <cc-number>4693427402639</cc-number>\n",
      "    </credit-card>\n",
      "    <subscription>\n",
      "      <plan>Essential</plan>\n",
      "      <status>Idle</status>\n",
      "      <payment-method>Debit card</payment-method>\n",
      "      <term>Payment in advance</term>\n",
      "    </subscription>\n",
      "  </object>\n",
      "  <object>\n",
      "    <id type=\"integer\">779</id>\n",
      "    <uid>02e5ac2e-3dc5-413f-9257-c86b5dca3c4a</uid>\n",
      "    <password>PEIRBpUiDr</password>\n",
      "    <first-name>Marine</first-name>\n",
      "    <last-name>Hegmann</last-name>\n",
      "    <username>marine.hegmann</username>\n",
      "    <email>marine.hegmann@email.com</email>\n",
      "    <avatar>https://robohash.org/atquevelitet.png?size=300x300&amp;set=set1</avatar>\n",
      "    <gender>Agender</gender>\n",
      "    <phone-number>+375 1-653-720-9365 x93821</phone-number>\n",
      "    <social-insurance-number>469601413</social-insurance-number>\n",
      "    <date-of-birth type=\"date\">1964-02-06</date-of-birth>\n",
      "    <employment>\n",
      "      <title>Dynamic Farming Director</title>\n",
      "      <key-skill>Proactive</key-skill>\n",
      "    </employment>\n",
      "    <address>\n",
      "      <city>Lowemouth</city>\n",
      "      <street-name>Reichert Unions</street-name>\n",
      "      <street-address>7825 Yundt Ports</street-address>\n",
      "      <zip-code>51592</zip-code>\n",
      "      <state>Washington</state>\n",
      "      <country>United States</country>\n",
      "      <coordinates>\n",
      "        <lat type=\"float\">-17.291266182960257</lat>\n",
      "        <lng type=\"float\">57.07443901474255</lng>\n",
      "      </coordinates>\n",
      "    </address>\n",
      "    <credit-card>\n",
      "      <cc-number>6771-8920-5119-2684</cc-number>\n",
      "    </credit-card>\n",
      "    <subscription>\n",
      "      <plan>Platinum</plan>\n",
      "      <status>Blocked</status>\n",
      "      <payment-method>Cheque</payment-method>\n",
      "      <term>Monthly</term>\n",
      "    </subscription>\n",
      "  </object>\n",
      "</objects>\n",
      "\n"
     ]
    }
   ],
   "source": [
    "parameters = {'size': 2, 'is_xml': 'true'}\n",
    "url = 'https://random-data-api.com/api/users/random_user'\n",
    "response = requests.get(url, params=parameters)\n",
    "if response.ok:\n",
    "  print(response.text)"
   ]
  },
  {
   "cell_type": "markdown",
   "metadata": {
    "id": "MwOuZd5a0OGB"
   },
   "source": [
    "Actually, behind the scenes, `requests` is forming up the former url:"
   ]
  },
  {
   "cell_type": "code",
   "execution_count": 7,
   "metadata": {
    "colab": {
     "base_uri": "https://localhost:8080/",
     "height": 36
    },
    "id": "EgNkeIzeuInT",
    "outputId": "b3d525c7-3091-4e36-961e-667d98b55c8b"
   },
   "outputs": [
    {
     "data": {
      "text/plain": [
       "'https://random-data-api.com/api/users/random_user?size=2&is_xml=true'"
      ]
     },
     "execution_count": 7,
     "metadata": {},
     "output_type": "execute_result"
    }
   ],
   "source": [
    "response.url"
   ]
  },
  {
   "cell_type": "markdown",
   "metadata": {
    "id": "AANPRIuRuKXo"
   },
   "source": [
    "### `POST`, `PUT`, `PATCH` and `DELETE` requests"
   ]
  },
  {
   "cell_type": "markdown",
   "metadata": {
    "id": "749TAHBvxApf"
   },
   "source": [
    "The `requests` library can be used to send `POST` requests too, thanks to the `requests.post` method"
   ]
  },
  {
   "cell_type": "code",
   "execution_count": 8,
   "metadata": {
    "colab": {
     "base_uri": "https://localhost:8080/"
    },
    "id": "T2dE_raNumIX",
    "outputId": "c9ff882b-aebc-47f7-8624-d31042cb4b54"
   },
   "outputs": [
    {
     "name": "stdout",
     "output_type": "stream",
     "text": [
      "201\n"
     ]
    }
   ],
   "source": [
    "url = \"https://jsonplaceholder.typicode.com/posts\"\n",
    "\n",
    "headers = {\"Content-Type\": \"application/json\"}\n",
    "\n",
    "data = \"\"\"\n",
    "{\n",
    "    \"title\": \"foo\",\n",
    "    \"body\": \"bar\",\n",
    "    \"user_id\": 10\n",
    "}\n",
    "\"\"\"\n",
    "\n",
    "response = requests.post(url, headers=headers, data=data)\n",
    "print(response.status_code)"
   ]
  },
  {
   "cell_type": "code",
   "execution_count": 9,
   "metadata": {},
   "outputs": [
    {
     "name": "stdout",
     "output_type": "stream",
     "text": [
      "{\n",
      "  \"title\": \"foo\",\n",
      "  \"body\": \"bar\",\n",
      "  \"user_id\": 10,\n",
      "  \"id\": 101\n",
      "}\n"
     ]
    }
   ],
   "source": [
    "print(response.text)"
   ]
  },
  {
   "cell_type": "markdown",
   "metadata": {
    "id": "fvTBCeE_wW3r"
   },
   "source": [
    "Likewise, `requests` library can be used to send `PUT`, `PATCH` and `DELETE` requests"
   ]
  },
  {
   "cell_type": "code",
   "execution_count": 10,
   "metadata": {
    "colab": {
     "base_uri": "https://localhost:8080/"
    },
    "id": "Wp-qMu6kyi8R",
    "outputId": "3ae09138-6452-4298-c810-bd30c7c6f93b"
   },
   "outputs": [
    {
     "name": "stdout",
     "output_type": "stream",
     "text": [
      "200\n"
     ]
    }
   ],
   "source": [
    "url = \"https://jsonplaceholder.typicode.com/posts/1\"\n",
    "data = \"\"\"\n",
    "{\n",
    "    \"title\": \"foo\",\n",
    "    \"body\": \"new body\",\n",
    "    \"user_id\": 10\n",
    "}\n",
    "\"\"\"\n",
    "\n",
    "response = requests.put(url, headers=headers, data=data)\n",
    "print(response.status_code)"
   ]
  },
  {
   "cell_type": "code",
   "execution_count": 11,
   "metadata": {},
   "outputs": [
    {
     "name": "stdout",
     "output_type": "stream",
     "text": [
      "{\n",
      "  \"title\": \"foo\",\n",
      "  \"body\": \"new body\",\n",
      "  \"user_id\": 10,\n",
      "  \"id\": 1\n",
      "}\n"
     ]
    }
   ],
   "source": [
    "print(response.text)"
   ]
  },
  {
   "cell_type": "code",
   "execution_count": 12,
   "metadata": {
    "colab": {
     "base_uri": "https://localhost:8080/"
    },
    "id": "kWPNsYB5ysJZ",
    "outputId": "251488a0-04b3-4ebc-be4f-2a6497d94dd4"
   },
   "outputs": [
    {
     "name": "stdout",
     "output_type": "stream",
     "text": [
      "200\n"
     ]
    }
   ],
   "source": [
    "url = \"https://jsonplaceholder.typicode.com/posts/1\"\n",
    "data = \"\"\"\n",
    "{\n",
    "    \"title\": \"new_title\"\n",
    "}\n",
    "\"\"\"\n",
    "\n",
    "response = requests.patch(url, headers=headers, data=data)\n",
    "print(response.status_code)"
   ]
  },
  {
   "cell_type": "code",
   "execution_count": 13,
   "metadata": {},
   "outputs": [
    {
     "name": "stdout",
     "output_type": "stream",
     "text": [
      "{\n",
      "  \"userId\": 1,\n",
      "  \"id\": 1,\n",
      "  \"title\": \"new_title\",\n",
      "  \"body\": \"quia et suscipit\\nsuscipit recusandae consequuntur expedita et cum\\nreprehenderit molestiae ut ut quas totam\\nnostrum rerum est autem sunt rem eveniet architecto\"\n",
      "}\n"
     ]
    }
   ],
   "source": [
    "print(response.text)"
   ]
  },
  {
   "cell_type": "code",
   "execution_count": 14,
   "metadata": {
    "colab": {
     "base_uri": "https://localhost:8080/"
    },
    "id": "DAI7hhbvy976",
    "outputId": "b3404b05-5836-4095-cdfa-294c1950fb40"
   },
   "outputs": [
    {
     "name": "stdout",
     "output_type": "stream",
     "text": [
      "200\n"
     ]
    }
   ],
   "source": [
    "url = \"https://jsonplaceholder.typicode.com/posts/1\"\n",
    "\n",
    "response = requests.delete(url, headers=headers)\n",
    "print(response.status_code)"
   ]
  },
  {
   "cell_type": "code",
   "execution_count": 15,
   "metadata": {},
   "outputs": [
    {
     "name": "stdout",
     "output_type": "stream",
     "text": [
      "{}\n"
     ]
    }
   ],
   "source": [
    "print(response.text)"
   ]
  },
  {
   "cell_type": "markdown",
   "metadata": {
    "id": "1em1y9MvzVR7"
   },
   "source": [
    "## Using APIs"
   ]
  },
  {
   "cell_type": "markdown",
   "metadata": {
    "id": "eisxFRf30Pbl"
   },
   "source": [
    "We can use APIs to interact with data sources to collect potentially complex data, or to perform actions on remote servers. Since it is not directly linked with ML in production, we will be brief here. But let's give an example regarding *data scraping*"
   ]
  },
  {
   "cell_type": "code",
   "execution_count": 27,
   "metadata": {
    "colab": {
     "base_uri": "https://localhost:8080/"
    },
    "id": "cfmwZE1G0ygK",
    "outputId": "96253efb-ea12-418a-b859-ae1589897392"
   },
   "outputs": [
    {
     "name": "stdout",
     "output_type": "stream",
     "text": [
      "{'class': 'dataset',\n",
      " 'dimension': {'geo': {'category': {'index': {'DE': 0, 'NL': 1},\n",
      "                                    'label': {'DE': 'Germany (until 1990 '\n",
      "                                                    'former territory of the '\n",
      "                                                    'FRG)',\n",
      "                                              'NL': 'Netherlands'}},\n",
      "                       'label': 'geo'},\n",
      "               'na_item': {'category': {'index': {'B1GQ': 0, 'D21': 1},\n",
      "                                        'label': {'B1GQ': 'Gross domestic '\n",
      "                                                          'product at market '\n",
      "                                                          'prices',\n",
      "                                                  'D21': 'Taxes on products'}},\n",
      "                           'label': 'na_item'},\n",
      "               'time': {'category': {'index': {'2010': 0, '2011': 1, '2012': 2},\n",
      "                                     'label': {'2010': '2010',\n",
      "                                               '2011': '2011',\n",
      "                                               '2012': '2012'}},\n",
      "                        'label': 'time'},\n",
      "               'unit': {'category': {'index': {'CLV05_MEUR': 0},\n",
      "                                     'label': {'CLV05_MEUR': 'Chain linked '\n",
      "                                                             'volumes (2005), '\n",
      "                                                             'million euro'}},\n",
      "                        'label': 'unit'}},\n",
      " 'extension': {'datasetId': 'nama_10_gdp',\n",
      "               'description': None,\n",
      "               'endOfLife': 'The WDDS service will still be operational until '\n",
      "                            '31 of January 2023 after which it will be '\n",
      "                            'decommissioned. We strongly urge users to migrate '\n",
      "                            'to the new service. This link can be useful for '\n",
      "                            'the migration: '\n",
      "                            'https://wikis.ec.europa.eu/display/EUROSTATHELP/API+Statistics+-+migrating+from+JSON+web+service+to+API+Statistics',\n",
      "               'lang': 'EN',\n",
      "               'subTitle': None},\n",
      " 'href': 'http://ec.europa.eu/eurostat/wdds/rest/data/v2.1/json/en/nama_10_gdp?precision=1&unit=CLV05_MEUR&geo=DE&geo=NL&time=2010&time=2011&time=2012&na_item=B1GQ&na_item=D21',\n",
      " 'id': ['unit', 'na_item', 'geo', 'time'],\n",
      " 'label': 'GDP and main components (output, expenditure and income)',\n",
      " 'size': [1, 2, 2, 3],\n",
      " 'source': 'Eurostat',\n",
      " 'updated': '2022-09-08',\n",
      " 'value': {'0': 2426563.7,\n",
      "           '1': 2521811.0,\n",
      "           '10': 59852.5,\n",
      "           '11': 57924.1,\n",
      "           '2': 2532364.7,\n",
      "           '3': 589946.6,\n",
      "           '4': 599097.8,\n",
      "           '5': 592925.0,\n",
      "           '6': 228301.5,\n",
      "           '7': 237271.4,\n",
      "           '8': 236319.0,\n",
      "           '9': 60631.6},\n",
      " 'version': '2.0'}\n"
     ]
    }
   ],
   "source": [
    "# Query URL\n",
    "url = 'http://ec.europa.eu/eurostat/wdds/rest/data/v2.1/json/en/nama_10_gdp' \n",
    "\n",
    "params = {\n",
    "  'precision':1,\n",
    "  'unit': 'CLV05_MEUR',  # Unit: CLV (2005) Million EUR\n",
    "  'geo': ['DE', 'NL'],  # Country: Germany and Netherlands\n",
    "  'time': ['2010', '2011', '2012'],  # Years: 2010, 2011, 2012\n",
    "  'na_item': ['B1GQ', 'D21']  # GDP (market prices) & taxes on products\n",
    "} \n",
    "\n",
    "reponse = requests.get(url, params=params)\n",
    "\n",
    "pprint(reponse.json())"
   ]
  },
  {
   "cell_type": "markdown",
   "metadata": {
    "id": "196ZQCOI3sz1"
   },
   "source": [
    "One can see that there is a little bit of data transformation to perform to exploit these data and we will stop here, in order to get back to our topic of interest"
   ]
  },
  {
   "cell_type": "markdown",
   "metadata": {
    "id": "FAT_inXEz3Kd"
   },
   "source": [
    "All that is very nice, how can it be useful for us to put machine learning models in production?\n",
    "\n",
    "Well precisely, we are going to deploy our models through REST APIs. As model providers, we won't be the one *using* the APIs, we will be the one *creating* the APIs. Our users will query these models, sending their data as `POST` requests parameters and our APIs will send back the corresponding prediction"
   ]
  },
  {
   "cell_type": "markdown",
   "metadata": {
    "id": "U5pnDyKb_CsV"
   },
   "source": [
    "## Creating APIs"
   ]
  },
  {
   "cell_type": "markdown",
   "metadata": {
    "id": "6OZoeEzNDLfM"
   },
   "source": [
    "## Creating a simple API"
   ]
  },
  {
   "cell_type": "markdown",
   "metadata": {},
   "source": [
    "### 0. Random "
   ]
  },
  {
   "cell_type": "code",
   "execution_count": 88,
   "metadata": {},
   "outputs": [
    {
     "name": "stdout",
     "output_type": "stream",
     "text": [
      "{\"is_eligible\":false}\r\n"
     ]
    }
   ],
   "source": [
    "# cURL\n",
    "!curl \"http://127.0.0.1:5000/credit\""
   ]
  },
  {
   "cell_type": "code",
   "execution_count": 89,
   "metadata": {},
   "outputs": [
    {
     "name": "stdout",
     "output_type": "stream",
     "text": [
      "{\"is_eligible\":false}\n",
      "\n"
     ]
    }
   ],
   "source": [
    "# Python requests\n",
    "response = requests.get('http://127.0.0.1:5000/credit')\n",
    "print(response.text)"
   ]
  },
  {
   "cell_type": "markdown",
   "metadata": {},
   "source": [
    "### 1.0 Univariate threshold"
   ]
  },
  {
   "cell_type": "code",
   "execution_count": 90,
   "metadata": {},
   "outputs": [
    {
     "name": "stdout",
     "output_type": "stream",
     "text": [
      "{\"is_eligible\":true}\r\n"
     ]
    }
   ],
   "source": [
    "# cURL\n",
    "!curl \"http://127.0.0.1:5000/credit?debt_ratio=0.1\""
   ]
  },
  {
   "cell_type": "code",
   "execution_count": 91,
   "metadata": {},
   "outputs": [
    {
     "name": "stdout",
     "output_type": "stream",
     "text": [
      "{\"is_eligible\":false}\r\n"
     ]
    }
   ],
   "source": [
    "# cURL \n",
    "!curl -G http://127.0.0.1:5000/credit -d \"debt_ratio=0.4\""
   ]
  },
  {
   "cell_type": "code",
   "execution_count": 99,
   "metadata": {},
   "outputs": [
    {
     "name": "stdout",
     "output_type": "stream",
     "text": [
      "{\"is_eligible\":false}\n",
      "\n"
     ]
    }
   ],
   "source": [
    "# Python requests\n",
    "response = requests.get('http://127.0.0.1:5000/credit', params={\"debt_ratio\": 0.4})\n",
    "print(response.text)"
   ]
  },
  {
   "cell_type": "markdown",
   "metadata": {},
   "source": [
    "### 1.1 Univariate threshold - batch"
   ]
  },
  {
   "cell_type": "code",
   "execution_count": 93,
   "metadata": {},
   "outputs": [
    {
     "name": "stdout",
     "output_type": "stream",
     "text": [
      "{\"001\":{\"id\":\"001\",\"is_eligible\":false},\"002\":{\"id\":\"002\",\"is_eligible\":true}}\r\n"
     ]
    }
   ],
   "source": [
    "# cURL\n",
    "!curl -X POST -H \"Content-type: application/json\" -d '[{\"id\": \"001\", \"debt_ratio\": 0.6}, {\"id\": \"002\", \"debt_ratio\": 0.1}]' http://127.0.0.1:5000/credits"
   ]
  },
  {
   "cell_type": "code",
   "execution_count": 100,
   "metadata": {},
   "outputs": [
    {
     "name": "stdout",
     "output_type": "stream",
     "text": [
      "{\"001\":{\"id\":\"001\",\"is_eligible\":false},\"002\":{\"id\":\"002\",\"is_eligible\":true}}\n",
      "\n"
     ]
    }
   ],
   "source": [
    "# Python requests - using 'json' param\n",
    "response = requests.post(\n",
    "    'http://127.0.0.1:5000/credits',\n",
    "    json=[{\"id\": \"001\", \"debt_ratio\": 0.6}, {\"id\": \"002\", \"debt_ratio\": 0.1}],\n",
    ")\n",
    "print(response.text)"
   ]
  },
  {
   "cell_type": "code",
   "execution_count": 102,
   "metadata": {},
   "outputs": [
    {
     "name": "stdout",
     "output_type": "stream",
     "text": [
      "{\"001\":{\"id\":\"001\",\"is_eligible\":false},\"002\":{\"id\":\"002\",\"is_eligible\":true}}\n",
      "\n"
     ]
    }
   ],
   "source": [
    "# Python requests - using 'data' param\n",
    "response = requests.post(\n",
    "    'http://127.0.0.1:5000/credits',\n",
    "    data='[{\"id\": \"001\", \"debt_ratio\": 0.6}, {\"id\": \"002\", \"debt_ratio\": 0.1}]', # 'data' accepts string object\n",
    "    headers={'content-type': 'application/json'} # but requires content-type specifications\n",
    ")\n",
    "print(response.text)"
   ]
  },
  {
   "cell_type": "markdown",
   "metadata": {},
   "source": [
    "### 2. Trained model"
   ]
  },
  {
   "cell_type": "code",
   "execution_count": 103,
   "metadata": {
    "id": "mXZVw7ztuIAZ"
   },
   "outputs": [
    {
     "name": "stdout",
     "output_type": "stream",
     "text": [
      "{'eligibilities': [0, 0]}\n"
     ]
    }
   ],
   "source": [
    "url = 'http://127.0.0.1:5000' + '/predict'\n",
    "\n",
    "headers = {\"Content-Type\": \"application/json\"}\n",
    "\n",
    "data = \"\"\"\n",
    "[\n",
    "  {\n",
    "     \"RevolvingUtilizationOfUnsecuredLines\":0.766126609,\n",
    "     \"age\":45.0,\n",
    "     \"NumberOfTime30-59DaysPastDueNotWorse\":2.0,\n",
    "     \"DebtRatio\":0.802982129,\n",
    "     \"MonthlyIncome\":9120.0,\n",
    "     \"NumberOfOpenCreditLinesAndLoans\":13.0,\n",
    "     \"NumberOfTimes90DaysLate\":0.0,\n",
    "     \"NumberRealEstateLoansOrLines\":6.0,\n",
    "     \"NumberOfTime60-89DaysPastDueNotWorse\":0.0,\n",
    "     \"NumberOfDependents\":2.0\n",
    "  },\n",
    "  {\n",
    "     \"DebtRatio\": 0.121876201,\n",
    "     \"MonthlyIncome\": 2600.0,\n",
    "     \"NumberOfDependents\": 1.0,\n",
    "     \"NumberOfOpenCreditLinesAndLoans\": 4,\n",
    "     \"NumberOfTime30-59DaysPastDueNotWorse\": 0,\n",
    "     \"NumberOfTime60-89DaysPastDueNotWorse\": 0,\n",
    "     \"NumberOfTimes90DaysLate\": 0,\n",
    "     \"NumberRealEstateLoansOrLines\": 0,\n",
    "     \"RevolvingUtilizationOfUnsecuredLines\": 0.957151019,\n",
    "     \"age\": 40\n",
    "  }\n",
    "]\n",
    "\"\"\"\n",
    "\n",
    "response = requests.post(url, headers=headers, data=data)\n",
    "if response.ok:\n",
    "    pprint(response.json())\n",
    "else:\n",
    "    print(\"Error, status code: \", response.status_code)"
   ]
  },
  {
   "cell_type": "markdown",
   "metadata": {},
   "source": [
    "In the first datapoint, try adjuting the variables, e.g. `age` and `DebtRatio`"
   ]
  },
  {
   "cell_type": "markdown",
   "metadata": {
    "id": "mfqHeOCAe9KI"
   },
   "source": [
    "## Networks and the Open Systems Interconnection model"
   ]
  },
  {
   "cell_type": "markdown",
   "metadata": {
    "id": "D1h1ihLbf_j-"
   },
   "source": [
    "<img src=\"https://infospark.in/wp-content/uploads/2021/03/OSI-Model.png\"/>"
   ]
  },
  {
   "cell_type": "code",
   "execution_count": 1,
   "metadata": {
    "colab": {
     "base_uri": "https://localhost:8080/"
    },
    "id": "tdvtIebxjiwH",
    "outputId": "cbb936f8-030e-4385-a2a6-f972332c8bab"
   },
   "outputs": [
    {
     "name": "stdout",
     "output_type": "stream",
     "text": [
      "Reading package lists...\n",
      "Building dependency tree...\n",
      "Reading state information...\n",
      "The following NEW packages will be installed:\n",
      "  netcat-openbsd\n",
      "0 upgraded, 1 newly installed, 0 to remove and 37 not upgraded.\n",
      "Need to get 39.8 kB of archives.\n",
      "After this operation, 96.3 kB of additional disk space will be used.\n",
      "Get:1 http://archive.ubuntu.com/ubuntu bionic-updates/main amd64 netcat-openbsd amd64 1.187-1ubuntu0.1 [39.8 kB]\n",
      "Fetched 39.8 kB in 0s (959 kB/s)\n",
      "Selecting previously unselected package netcat-openbsd.\n",
      "(Reading database ... 155047 files and directories currently installed.)\n",
      "Preparing to unpack .../netcat-openbsd_1.187-1ubuntu0.1_amd64.deb ...\n",
      "Unpacking netcat-openbsd (1.187-1ubuntu0.1) ...\n",
      "Setting up netcat-openbsd (1.187-1ubuntu0.1) ...\n",
      "update-alternatives: using /bin/nc.openbsd to provide /bin/nc (nc) in auto mode\n",
      "Processing triggers for man-db (2.8.3-2ubuntu0.1) ...\n"
     ]
    }
   ],
   "source": [
    "!apt-get -q -y install netcat-openbsd"
   ]
  },
  {
   "cell_type": "code",
   "execution_count": 2,
   "metadata": {
    "colab": {
     "base_uri": "https://localhost:8080/"
    },
    "id": "ThmhuTwzjtFO",
    "outputId": "b1b7d7b3-2961-4e57-c511-2b19ecd926eb"
   },
   "outputs": [
    {
     "name": "stdout",
     "output_type": "stream",
     "text": [
      "HTTP/1.1 200 OK\r\n",
      "Date: Wed, 20 Oct 2021 16:35:41 GMT\r\n",
      "Server: Apache\r\n",
      "Upgrade: h2\r\n",
      "Connection: Upgrade\r\n",
      "Last-Modified: Thu, 02 Jun 2016 06:01:08 GMT\r\n",
      "ETag: \"cc-5344555136fe9\"\r\n",
      "Accept-Ranges: bytes\r\n",
      "Content-Length: 204\r\n",
      "Cache-Control: max-age=600\r\n",
      "Expires: Wed, 20 Oct 2021 16:45:41 GMT\r\n",
      "Vary: Accept-Encoding,User-Agent\r\n",
      "Content-Type: text/html\r\n",
      "\r\n",
      "<html><head><title>Vous Etes Perdu ?</title></head><body><h1>Perdu sur l'Internet ?</h1><h2>Pas de panique, on va vous aider</h2><strong><pre>    * <----- vous &ecirc;tes ici</pre></strong></body></html>\n"
     ]
    }
   ],
   "source": [
    "!echo -e \"GET / HTTP/1.1\\r\\nHost: www.perdu.com\\r\\n\\r\\n\" | netcat -N www.perdu.com 80"
   ]
  },
  {
   "cell_type": "markdown",
   "metadata": {
    "id": "alvQAYRigKHD"
   },
   "source": [
    "Nota Bene : le protocole HTTP nécessite de terminer chaque ligne avec les caractères \"\\r\\n\" (CR+LF)"
   ]
  },
  {
   "cell_type": "markdown",
   "metadata": {
    "id": "q_GSSkFQj7g3"
   },
   "source": [
    "Let's investigate the [trace](https://github.com/diu-uf-bordeaux/bloc3/raw/master/reseaux/trace/http.pcap) togther using a tool like [wireshark](https://www.wireshark.org)"
   ]
  },
  {
   "cell_type": "markdown",
   "metadata": {
    "id": "L5xFtIE8kONe"
   },
   "source": [
    "## Going further"
   ]
  },
  {
   "cell_type": "markdown",
   "metadata": {
    "id": "mUeMHKI5kbqt"
   },
   "source": [
    "In some cases, we might want to shorten the communication time to and from the API. Other protocols can be substituted to `HTTP(S)`. `gRPC` for example, might be worth quoted\n",
    "\n",
    "https://www.imaginarycloud.com/blog/grpc-vs-rest/"
   ]
  }
 ],
 "metadata": {
  "colab": {
   "name": "Session4.ipynb",
   "provenance": [],
   "toc_visible": true
  },
  "kernelspec": {
   "display_name": "Python 3",
   "language": "python",
   "name": "python3"
  },
  "language_info": {
   "codemirror_mode": {
    "name": "ipython",
    "version": 3
   },
   "file_extension": ".py",
   "mimetype": "text/x-python",
   "name": "python",
   "nbconvert_exporter": "python",
   "pygments_lexer": "ipython3",
   "version": "3.7.1"
  }
 },
 "nbformat": 4,
 "nbformat_minor": 1
}
