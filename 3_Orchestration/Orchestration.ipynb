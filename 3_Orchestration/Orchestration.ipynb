{
 "cells": [
  {
   "cell_type": "markdown",
   "metadata": {
    "id": "kPyGlTFTe2mJ"
   },
   "source": [
    "# From Containers to Orchestration\n",
    "\n",
    "**Machine Learning for Production**\n",
    "Master X-ITE\n",
    "\n",
    "Author: Jérémie Jakubowicz, Charles Cazals"
   ]
  },
  {
   "cell_type": "code",
   "execution_count": 1,
   "metadata": {},
   "outputs": [],
   "source": [
    "import requests"
   ]
  },
  {
   "cell_type": "markdown",
   "metadata": {},
   "source": [
    "```bash\n",
    "kubectl create -f kubernetes/database/pod_postgres_db.yaml\n",
    "kubectl create -f kubernetes/database/service_cluster_ip_postgres_db.yaml\n",
    "kubectl create -f kubernetes/app/deployment_app.yaml\n",
    "kubectl create -f kubernetes/app/service_node_port_app.yaml\n",
    "\n",
    "minikube service basic-flask-app-node-port --url\n",
    "```"
   ]
  },
  {
   "cell_type": "code",
   "execution_count": 2,
   "metadata": {},
   "outputs": [],
   "source": [
    "MINIKUBE_SERVICE_URL = \"http://127.0.0.1:50391\""
   ]
  },
  {
   "cell_type": "markdown",
   "metadata": {},
   "source": [
    "### Fetching an entry from the database"
   ]
  },
  {
   "cell_type": "code",
   "execution_count": 3,
   "metadata": {},
   "outputs": [
    {
     "data": {
      "text/plain": [
       "{'1': [1, 1, 0.766126609, 45, 2, 0.802982129, 9120.0, 13, 0, 6, 0, 2],\n",
       " 'status': 'success'}"
      ]
     },
     "execution_count": 3,
     "metadata": {},
     "output_type": "execute_result"
    }
   ],
   "source": [
    "resp = requests.get(f\"{MINIKUBE_SERVICE_URL}/records/1\")\n",
    "resp.json()"
   ]
  },
  {
   "cell_type": "markdown",
   "metadata": {},
   "source": [
    "### Training the model with the database"
   ]
  },
  {
   "cell_type": "code",
   "execution_count": 4,
   "metadata": {},
   "outputs": [
    {
     "data": {
      "text/plain": [
       "{'message': 'Model successfully updated', 'status': 'success'}"
      ]
     },
     "execution_count": 4,
     "metadata": {},
     "output_type": "execute_result"
    }
   ],
   "source": [
    "resp = requests.get(f\"{MINIKUBE_SERVICE_URL}/train\")\n",
    "resp.json()"
   ]
  },
  {
   "cell_type": "markdown",
   "metadata": {},
   "source": [
    "### Adding entries in the database and retraining the model"
   ]
  },
  {
   "cell_type": "code",
   "execution_count": 5,
   "metadata": {},
   "outputs": [
    {
     "data": {
      "text/plain": [
       "'{\"scores\":[0.7135076345405066]}\\n'"
      ]
     },
     "execution_count": 5,
     "metadata": {},
     "output_type": "execute_result"
    }
   ],
   "source": [
    "url = f\"{MINIKUBE_SERVICE_URL}/predict\"\n",
    "\n",
    "headers = {\"Content-Type\": \"application/json\"}\n",
    "\n",
    "data = \"\"\"\n",
    "[\n",
    "  {\n",
    "     \"revolving_utilization_of_unsecured_lines\":0.766126609,\n",
    "     \"age\":45.0,\n",
    "     \"number_of_time_30_59_days_past_due_not_worse\":2.0,\n",
    "     \"debt_ratio\":0.802982129,\n",
    "     \"monthly_income\":9120.0,\n",
    "     \"number_of_open_credit_lines_and_loans\":13.0,\n",
    "     \"number_of_times_90_days_late\":0.0,\n",
    "     \"number_real_estate_loans_or_lines\":6.0,\n",
    "     \"number_of_time_60_89_days_past_due_not_worse\":0.0,\n",
    "     \"number_of_dependents\":2.0\n",
    "  }\n",
    "]\n",
    "\"\"\"\n",
    "\n",
    "resp = requests.post(url, headers=headers, data=data)\n",
    "resp.text"
   ]
  },
  {
   "cell_type": "code",
   "execution_count": null,
   "metadata": {},
   "outputs": [],
   "source": []
  }
 ],
 "metadata": {
  "colab": {
   "name": "Session4.ipynb",
   "provenance": [],
   "toc_visible": true
  },
  "kernelspec": {
   "display_name": "Python 3",
   "language": "python",
   "name": "python3"
  },
  "language_info": {
   "codemirror_mode": {
    "name": "ipython",
    "version": 3
   },
   "file_extension": ".py",
   "mimetype": "text/x-python",
   "name": "python",
   "nbconvert_exporter": "python",
   "pygments_lexer": "ipython3",
   "version": "3.7.1"
  }
 },
 "nbformat": 4,
 "nbformat_minor": 1
}
