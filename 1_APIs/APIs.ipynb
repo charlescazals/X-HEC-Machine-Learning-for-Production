{
 "cells": [
  {
   "cell_type": "markdown",
   "metadata": {
    "id": "kPyGlTFTe2mJ"
   },
   "source": [
    "# From models to APIs\n",
    "\n",
    "**Machine Learning for Production**\n",
    "Master X-ITE\n",
    "\n",
    "Author: Jérémie Jakubowicz, Charles Cazals"
   ]
  },
  {
   "cell_type": "markdown",
   "metadata": {
    "id": "0yiqxCEsws5L"
   },
   "source": [
    "### GET Requests\n"
   ]
  },
  {
   "cell_type": "markdown",
   "metadata": {
    "id": "bYx-rDbsy6vG"
   },
   "source": [
    "We'll see later, `POST`, `PUT`, `PATCH` and `DELETE` requests result in modifying the state, *i.e.*, the data. `GET` requests aim at querying the data."
   ]
  },
  {
   "cell_type": "markdown",
   "metadata": {
    "id": "4JJu6ngiBYyF"
   },
   "source": [
    "Let's use the `requests` Python library"
   ]
  },
  {
   "cell_type": "code",
   "execution_count": 1,
   "metadata": {
    "id": "URkFzaHfB2u0"
   },
   "outputs": [],
   "source": [
    "import requests"
   ]
  },
  {
   "cell_type": "code",
   "execution_count": 2,
   "metadata": {
    "id": "2x9WiFokB4wf"
   },
   "outputs": [],
   "source": [
    "import requests  # Import the requests library\n",
    "\n",
    "# Query URL\n",
    "url = 'https://random-data-api.com/api/users/random_user'\n",
    "\n",
    "response = requests.get(url)  # Make a GET request to the URL"
   ]
  },
  {
   "cell_type": "markdown",
   "metadata": {
    "id": "ufX7mvG1ELTP"
   },
   "source": [
    "<img src='https://www.dataquest.io/wp-content/uploads/2019/09/api-request.svg'/>"
   ]
  },
  {
   "cell_type": "code",
   "execution_count": 3,
   "metadata": {
    "colab": {
     "base_uri": "https://localhost:8080/"
    },
    "id": "KILZv0jgEKK1",
    "outputId": "6c526f87-6b67-48c1-d605-cf3f8a0bdb3a"
   },
   "outputs": [
    {
     "name": "stdout",
     "output_type": "stream",
     "text": [
      "Request returned 200 : 'OK'\n",
      "{\"id\":4287,\"uid\":\"73e32ef1-8fee-4f10-8ad0-1dcd69b918c0\",\"password\":\"ZFouieb5CS\",\"first_name\":\"Elwood\",\"last_name\":\"Morar\",\"username\":\"elwood.morar\",\"email\":\"elwood.morar@email.com\",\"avatar\":\"https://robohash.org/ullamoditlabore.png?size=300x300\\u0026set=set1\",\"gender\":\"Genderqueer\",\"phone_number\":\"+996 847.305.0870 x674\",\"social_insurance_number\":\"190039164\",\"date_of_birth\":\"1965-09-01\",\"employment\":{\"title\":\"Senior Education Strategist\",\"key_skill\":\"Work under pressure\"},\"address\":{\"city\":\"East Louvenia\",\"street_name\":\"Greenholt Plains\",\"street_address\":\"630 Prosacco Roads\",\"zip_code\":\"54059-2395\",\"state\":\"Hawaii\",\"country\":\"United States\",\"coordinates\":{\"lat\":73.68922364988867,\"lng\":19.551832010707955}},\"credit_card\":{\"cc_number\":\"5360-7190-1324-9873\"},\"subscription\":{\"plan\":\"Platinum\",\"status\":\"Idle\",\"payment_method\":\"Money transfer\",\"term\":\"Full subscription\"}}\n"
     ]
    }
   ],
   "source": [
    "# Print response code (and associated text)\n",
    "print(f\"Request returned {response.status_code} : '{response.reason}'\")\n",
    "# Print response data\n",
    "print(response.text)"
   ]
  },
  {
   "cell_type": "markdown",
   "metadata": {
    "id": "YhiC-hNihAf4"
   },
   "source": [
    "We see that the response code is 200. It means that the request went well. We'll get back to response code in the next section."
   ]
  },
  {
   "cell_type": "markdown",
   "metadata": {
    "id": "-QckJX4KHtvp"
   },
   "source": [
    "Let's focus on response data now. The trained eye recognizes JavaScript Object Notation [JSON](https://fr.wikipedia.org/wiki/JavaScript_Object_Notation) format for the response data. Pretty printing libraries are helpful to improve response readability"
   ]
  },
  {
   "cell_type": "code",
   "execution_count": 4,
   "metadata": {
    "colab": {
     "base_uri": "https://localhost:8080/"
    },
    "id": "l1cIhx-eHkkO",
    "outputId": "50600d62-b56e-4f0e-9d98-1a9c881a8bb8"
   },
   "outputs": [
    {
     "name": "stdout",
     "output_type": "stream",
     "text": [
      "{'address': {'city': 'East Louvenia',\n",
      "             'coordinates': {'lat': 73.68922364988867,\n",
      "                             'lng': 19.551832010707955},\n",
      "             'country': 'United States',\n",
      "             'state': 'Hawaii',\n",
      "             'street_address': '630 Prosacco Roads',\n",
      "             'street_name': 'Greenholt Plains',\n",
      "             'zip_code': '54059-2395'},\n",
      " 'avatar': 'https://robohash.org/ullamoditlabore.png?size=300x300&set=set1',\n",
      " 'credit_card': {'cc_number': '5360-7190-1324-9873'},\n",
      " 'date_of_birth': '1965-09-01',\n",
      " 'email': 'elwood.morar@email.com',\n",
      " 'employment': {'key_skill': 'Work under pressure',\n",
      "                'title': 'Senior Education Strategist'},\n",
      " 'first_name': 'Elwood',\n",
      " 'gender': 'Genderqueer',\n",
      " 'id': 4287,\n",
      " 'last_name': 'Morar',\n",
      " 'password': 'ZFouieb5CS',\n",
      " 'phone_number': '+996 847.305.0870 x674',\n",
      " 'social_insurance_number': '190039164',\n",
      " 'subscription': {'payment_method': 'Money transfer',\n",
      "                  'plan': 'Platinum',\n",
      "                  'status': 'Idle',\n",
      "                  'term': 'Full subscription'},\n",
      " 'uid': '73e32ef1-8fee-4f10-8ad0-1dcd69b918c0',\n",
      " 'username': 'elwood.morar'}\n"
     ]
    }
   ],
   "source": [
    "payload = response.json()  # Parse `response.text` into JSON\n",
    "\n",
    "from pprint import pprint\n",
    "pprint(payload)"
   ]
  },
  {
   "cell_type": "markdown",
   "metadata": {
    "id": "xaEzR4k0huLL"
   },
   "source": [
    "### HTTP response codes"
   ]
  },
  {
   "cell_type": "markdown",
   "metadata": {
    "id": "C6sfOcGkh0F_"
   },
   "source": [
    "The following holds for any HTTP request, not only for GET request.\n",
    "\n",
    "The codes are numbers between 100 and 599 that are sorted with the following meanings:\n",
    "- **100-199: informational response** – the request was received, continuing process\n",
    "- **200-299: successful** – the request was successfully received, understood, and accepted\n",
    "- **300-399: redirection** – further action needs to be taken in order to complete the request\n",
    "- **400-499: client error** – the request contains bad syntax or cannot be fulfilled\n",
    "- **500-599: server error** – the server failed to fulfil an apparently valid request"
   ]
  },
  {
   "cell_type": "markdown",
   "metadata": {
    "id": "SBD0IsInjP-A"
   },
   "source": [
    "Here are some common examples:\n",
    "- 100-199:\n",
    "  + **100 Continue**\n",
    "    The server has received the request headers and the client should proceed to send the request body \n",
    "  + **101 Switching Protocols**\n",
    "    The requester has asked the server to switch protocols and the server has agreed to do so\n",
    "- 200-299:\n",
    "  + **200 OK**\n",
    "    Standard response for successful HTTP requests\n",
    "  + **201 Created**\n",
    "    The request has been fulfilled, resulting in the creation of a new resource\n",
    "  + **202 Accepted**\n",
    "    The request has been accepted for processing, but the processing has not been completed\n",
    "- 300-399:\n",
    "  + **302 Found**\n",
    "    Tells the client to look at (browse to) another URL\n",
    "  + **303 See Other**\n",
    "    The response to the request can be found under another URI using the GET method. When received in response to a POST (or PUT/DELETE), the client should presume that the server has received the data and should issue a new GET request to the given URI\n",
    "  + **304 Not Modified**\n",
    "    Indicates that the resource has not been modified since the version specified by the request headers If-Modified-Since or If-None-Match. In such case, there is no need to retransmit the resource since the client still has a previously-downloaded copy\n",
    "  + **305 Use Proxy**\n",
    "    The requested resource is available only through a proxy, the address for which is provided in the response\n",
    "- 400-499\n",
    "  + **400 Bad Request**\n",
    "    The server cannot or will not process the request due to an apparent client error\n",
    "  + **401 Unauthorized**\n",
    "    Similar to 403 Forbidden, but specifically for use when authentication is required and has failed or has not yet been provided\n",
    "  + **403 Forbidden**\n",
    "    The request contained valid data and was understood by the server, but the server is refusing action\n",
    "  + **404 Not Found**\n",
    "    The most famous error code. The requested resource could not be found but may be available in the future\n",
    "- 500-599\n",
    "  + **500 Internal Server Error**\n",
    "    A generic error message, given when an unexpected condition was encountered and no more specific message is suitable\n",
    "  + **501 Not Implemented**\n",
    "    The server either does not recognize the request method, or it lacks the ability to fulfil the request\n",
    "  + **503 Service Unavailable**\n",
    "    The server cannot handle the request"
   ]
  },
  {
   "cell_type": "markdown",
   "metadata": {
    "id": "zi2spNjZDLvo"
   },
   "source": [
    "### Requests parameters"
   ]
  },
  {
   "cell_type": "markdown",
   "metadata": {
    "id": "HJPJvPPiIw2s"
   },
   "source": [
    "HTTP requests can take parameters, either directly in the url thanks to the '?param1=value1&param2=value2&...' syntax, or using the `params` keyword with `requests.get`. Let's start with the '?param=value' inside the url syntax"
   ]
  },
  {
   "cell_type": "code",
   "execution_count": 5,
   "metadata": {
    "colab": {
     "base_uri": "https://localhost:8080/"
    },
    "id": "cOHWxP9gtZPr",
    "outputId": "5ae521e1-ac63-4d25-9b67-6991f4ace766"
   },
   "outputs": [
    {
     "name": "stdout",
     "output_type": "stream",
     "text": [
      "<?xml version=\"1.0\" encoding=\"UTF-8\"?>\n",
      "<objects type=\"array\">\n",
      "  <object>\n",
      "    <id type=\"integer\">8750</id>\n",
      "    <uid>004bb761-40d7-4863-ab37-387a54780799</uid>\n",
      "    <password>HuNqobQyaK</password>\n",
      "    <first-name>Susann</first-name>\n",
      "    <last-name>Schmeler</last-name>\n",
      "    <username>susann.schmeler</username>\n",
      "    <email>susann.schmeler@email.com</email>\n",
      "    <avatar>https://robohash.org/autemetmagni.png?size=300x300&amp;set=set1</avatar>\n",
      "    <gender>Polygender</gender>\n",
      "    <phone-number>+269 1-706-917-5733 x360</phone-number>\n",
      "    <social-insurance-number>325875888</social-insurance-number>\n",
      "    <date-of-birth type=\"date\">1990-01-21</date-of-birth>\n",
      "    <employment>\n",
      "      <title>Corporate Community-Services Engineer</title>\n",
      "      <key-skill>Self-motivated</key-skill>\n",
      "    </employment>\n",
      "    <address>\n",
      "      <city>Demetrashire</city>\n",
      "      <street-name>Kiehn Stravenue</street-name>\n",
      "      <street-address>985 Wisoky Mount</street-address>\n",
      "      <zip-code>72137-0601</zip-code>\n",
      "      <state>Indiana</state>\n",
      "      <country>United States</country>\n",
      "      <coordinates>\n",
      "        <lat type=\"float\">37.13515641575394</lat>\n",
      "        <lng type=\"float\">-80.19775309261092</lng>\n",
      "      </coordinates>\n",
      "    </address>\n",
      "    <credit-card>\n",
      "      <cc-number>4681-6023-8646-8061</cc-number>\n",
      "    </credit-card>\n",
      "    <subscription>\n",
      "      <plan>Free Trial</plan>\n",
      "      <status>Blocked</status>\n",
      "      <payment-method>Credit card</payment-method>\n",
      "      <term>Annual</term>\n",
      "    </subscription>\n",
      "  </object>\n",
      "  <object>\n",
      "    <id type=\"integer\">1405</id>\n",
      "    <uid>e40c8c7c-27d0-4541-bb24-86cb86d73b69</uid>\n",
      "    <password>s70o5JTRHM</password>\n",
      "    <first-name>Eustolia</first-name>\n",
      "    <last-name>Bernier</last-name>\n",
      "    <username>eustolia.bernier</username>\n",
      "    <email>eustolia.bernier@email.com</email>\n",
      "    <avatar>https://robohash.org/etlaborumvoluptas.png?size=300x300&amp;set=set1</avatar>\n",
      "    <gender>Male</gender>\n",
      "    <phone-number>+264 1-737-773-1064 x41623</phone-number>\n",
      "    <social-insurance-number>178306114</social-insurance-number>\n",
      "    <date-of-birth type=\"date\">1976-06-14</date-of-birth>\n",
      "    <employment>\n",
      "      <title>Customer Education Manager</title>\n",
      "      <key-skill>Fast learner</key-skill>\n",
      "    </employment>\n",
      "    <address>\n",
      "      <city>Kieshaside</city>\n",
      "      <street-name>Jeanelle Mountain</street-name>\n",
      "      <street-address>713 Leatha Cliffs</street-address>\n",
      "      <zip-code>53508-0037</zip-code>\n",
      "      <state>New York</state>\n",
      "      <country>United States</country>\n",
      "      <coordinates>\n",
      "        <lat type=\"float\">-74.5854197953105</lat>\n",
      "        <lng type=\"float\">-10.317565241339139</lng>\n",
      "      </coordinates>\n",
      "    </address>\n",
      "    <credit-card>\n",
      "      <cc-number>4643729795578</cc-number>\n",
      "    </credit-card>\n",
      "    <subscription>\n",
      "      <plan>Premium</plan>\n",
      "      <status>Blocked</status>\n",
      "      <payment-method>Credit card</payment-method>\n",
      "      <term>Monthly</term>\n",
      "    </subscription>\n",
      "  </object>\n",
      "</objects>\n",
      "\n"
     ]
    }
   ],
   "source": [
    "url = 'https://random-data-api.com/api/users/random_user?size=2&is_xml=true'\n",
    "response = requests.get(url)\n",
    "if response.ok:\n",
    "    print(response.text)"
   ]
  },
  {
   "cell_type": "markdown",
   "metadata": {
    "id": "XSqmr0y3tiW6"
   },
   "source": [
    "Now with the `params` keyword"
   ]
  },
  {
   "cell_type": "code",
   "execution_count": 6,
   "metadata": {
    "colab": {
     "base_uri": "https://localhost:8080/"
    },
    "id": "z8SRHykKzQRK",
    "outputId": "8421b0ef-0c2d-4256-df5f-bb1443507a5a"
   },
   "outputs": [
    {
     "name": "stdout",
     "output_type": "stream",
     "text": [
      "<?xml version=\"1.0\" encoding=\"UTF-8\"?>\n",
      "<objects type=\"array\">\n",
      "  <object>\n",
      "    <id type=\"integer\">1501</id>\n",
      "    <uid>bbc18777-3943-4abf-936f-ccd690ebde40</uid>\n",
      "    <password>7toImUn5F1</password>\n",
      "    <first-name>Guy</first-name>\n",
      "    <last-name>Gleichner</last-name>\n",
      "    <username>guy.gleichner</username>\n",
      "    <email>guy.gleichner@email.com</email>\n",
      "    <avatar>https://robohash.org/voluptatemmolestiaeexercitationem.png?size=300x300&amp;set=set1</avatar>\n",
      "    <gender>Non-binary</gender>\n",
      "    <phone-number>+290 384.703.6831 x558</phone-number>\n",
      "    <social-insurance-number>664446754</social-insurance-number>\n",
      "    <date-of-birth type=\"date\">1977-08-17</date-of-birth>\n",
      "    <employment>\n",
      "      <title>Construction Assistant</title>\n",
      "      <key-skill>Fast learner</key-skill>\n",
      "    </employment>\n",
      "    <address>\n",
      "      <city>Armstrongside</city>\n",
      "      <street-name>Cristobal View</street-name>\n",
      "      <street-address>495 Cristopher Prairie</street-address>\n",
      "      <zip-code>66700</zip-code>\n",
      "      <state>Louisiana</state>\n",
      "      <country>United States</country>\n",
      "      <coordinates>\n",
      "        <lat type=\"float\">-52.150569113852484</lat>\n",
      "        <lng type=\"float\">153.09936254492857</lng>\n",
      "      </coordinates>\n",
      "    </address>\n",
      "    <credit-card>\n",
      "      <cc-number>4262068908229</cc-number>\n",
      "    </credit-card>\n",
      "    <subscription>\n",
      "      <plan>Premium</plan>\n",
      "      <status>Blocked</status>\n",
      "      <payment-method>Google Pay</payment-method>\n",
      "      <term>Full subscription</term>\n",
      "    </subscription>\n",
      "  </object>\n",
      "  <object>\n",
      "    <id type=\"integer\">139</id>\n",
      "    <uid>b51104cd-96a8-4f0c-8018-93dd367c4842</uid>\n",
      "    <password>rPnTLmD4Et</password>\n",
      "    <first-name>Arlie</first-name>\n",
      "    <last-name>Aufderhar</last-name>\n",
      "    <username>arlie.aufderhar</username>\n",
      "    <email>arlie.aufderhar@email.com</email>\n",
      "    <avatar>https://robohash.org/corporisfugiatomnis.png?size=300x300&amp;set=set1</avatar>\n",
      "    <gender>Male</gender>\n",
      "    <phone-number>+850 497.715.6576 x891</phone-number>\n",
      "    <social-insurance-number>157137753</social-insurance-number>\n",
      "    <date-of-birth type=\"date\">1982-07-04</date-of-birth>\n",
      "    <employment>\n",
      "      <title>Chief Advertising Agent</title>\n",
      "      <key-skill>Technical savvy</key-skill>\n",
      "    </employment>\n",
      "    <address>\n",
      "      <city>East Bennie</city>\n",
      "      <street-name>Dacia Ville</street-name>\n",
      "      <street-address>811 Dickinson Shoal</street-address>\n",
      "      <zip-code>58414</zip-code>\n",
      "      <state>Minnesota</state>\n",
      "      <country>United States</country>\n",
      "      <coordinates>\n",
      "        <lat type=\"float\">35.4288101097077</lat>\n",
      "        <lng type=\"float\">-125.33667904512437</lng>\n",
      "      </coordinates>\n",
      "    </address>\n",
      "    <credit-card>\n",
      "      <cc-number>4608478143569</cc-number>\n",
      "    </credit-card>\n",
      "    <subscription>\n",
      "      <plan>Free Trial</plan>\n",
      "      <status>Active</status>\n",
      "      <payment-method>Alipay</payment-method>\n",
      "      <term>Payment in advance</term>\n",
      "    </subscription>\n",
      "  </object>\n",
      "</objects>\n",
      "\n"
     ]
    }
   ],
   "source": [
    "parameters = {'size': 2, 'is_xml': 'true'}\n",
    "url = 'https://random-data-api.com/api/users/random_user'\n",
    "response = requests.get(url, params=parameters)\n",
    "if response.ok:\n",
    "  print(response.text)"
   ]
  },
  {
   "cell_type": "markdown",
   "metadata": {
    "id": "MwOuZd5a0OGB"
   },
   "source": [
    "Actually, behind the scenes, `requests` is forming up the former url:"
   ]
  },
  {
   "cell_type": "code",
   "execution_count": 7,
   "metadata": {
    "colab": {
     "base_uri": "https://localhost:8080/",
     "height": 36
    },
    "id": "EgNkeIzeuInT",
    "outputId": "b3d525c7-3091-4e36-961e-667d98b55c8b"
   },
   "outputs": [
    {
     "data": {
      "text/plain": [
       "'https://random-data-api.com/api/users/random_user?size=2&is_xml=true'"
      ]
     },
     "execution_count": 7,
     "metadata": {},
     "output_type": "execute_result"
    }
   ],
   "source": [
    "response.url"
   ]
  },
  {
   "cell_type": "markdown",
   "metadata": {
    "id": "AANPRIuRuKXo"
   },
   "source": [
    "### `POST`, `PUT`, `PATCH` and `DELETE` requests"
   ]
  },
  {
   "cell_type": "markdown",
   "metadata": {
    "id": "749TAHBvxApf"
   },
   "source": [
    "The `requests` library can be used to send `POST` requests too, thanks to the `requests.post` method"
   ]
  },
  {
   "cell_type": "code",
   "execution_count": 8,
   "metadata": {
    "colab": {
     "base_uri": "https://localhost:8080/"
    },
    "id": "T2dE_raNumIX",
    "outputId": "c9ff882b-aebc-47f7-8624-d31042cb4b54"
   },
   "outputs": [
    {
     "name": "stdout",
     "output_type": "stream",
     "text": [
      "201\n"
     ]
    }
   ],
   "source": [
    "url = \"https://jsonplaceholder.typicode.com/posts\"\n",
    "\n",
    "headers = {\"Content-Type\": \"application/json\"}\n",
    "\n",
    "data = \"\"\"\n",
    "{\n",
    "    \"title\": \"foo\",\n",
    "    \"body\": \"bar\",\n",
    "    \"user_id\": 10\n",
    "}\n",
    "\"\"\"\n",
    "\n",
    "response = requests.post(url, headers=headers, data=data)\n",
    "print(response.status_code)"
   ]
  },
  {
   "cell_type": "code",
   "execution_count": 9,
   "metadata": {},
   "outputs": [
    {
     "name": "stdout",
     "output_type": "stream",
     "text": [
      "{\n",
      "  \"title\": \"foo\",\n",
      "  \"body\": \"bar\",\n",
      "  \"user_id\": 10,\n",
      "  \"id\": 101\n",
      "}\n"
     ]
    }
   ],
   "source": [
    "print(response.text)"
   ]
  },
  {
   "cell_type": "markdown",
   "metadata": {
    "id": "fvTBCeE_wW3r"
   },
   "source": [
    "Likewise, `requests` library can be used to send `PUT`, `PATCH` and `DELETE` requests"
   ]
  },
  {
   "cell_type": "code",
   "execution_count": 10,
   "metadata": {
    "colab": {
     "base_uri": "https://localhost:8080/"
    },
    "id": "Wp-qMu6kyi8R",
    "outputId": "3ae09138-6452-4298-c810-bd30c7c6f93b"
   },
   "outputs": [
    {
     "name": "stdout",
     "output_type": "stream",
     "text": [
      "200\n"
     ]
    }
   ],
   "source": [
    "url = \"https://jsonplaceholder.typicode.com/posts/1\"\n",
    "data = \"\"\"\n",
    "{\n",
    "    \"title\": \"foo\",\n",
    "    \"body\": \"new body\",\n",
    "    \"user_id\": 10\n",
    "}\n",
    "\"\"\"\n",
    "\n",
    "response = requests.put(url, headers=headers, data=data)\n",
    "print(response.status_code)"
   ]
  },
  {
   "cell_type": "code",
   "execution_count": 11,
   "metadata": {},
   "outputs": [
    {
     "name": "stdout",
     "output_type": "stream",
     "text": [
      "{\n",
      "  \"title\": \"foo\",\n",
      "  \"body\": \"new body\",\n",
      "  \"user_id\": 10,\n",
      "  \"id\": 1\n",
      "}\n"
     ]
    }
   ],
   "source": [
    "print(response.text)"
   ]
  },
  {
   "cell_type": "code",
   "execution_count": 12,
   "metadata": {
    "colab": {
     "base_uri": "https://localhost:8080/"
    },
    "id": "kWPNsYB5ysJZ",
    "outputId": "251488a0-04b3-4ebc-be4f-2a6497d94dd4"
   },
   "outputs": [
    {
     "name": "stdout",
     "output_type": "stream",
     "text": [
      "200\n"
     ]
    }
   ],
   "source": [
    "url = \"https://jsonplaceholder.typicode.com/posts/1\"\n",
    "data = \"\"\"\n",
    "{\n",
    "    \"title\": \"new_title\"\n",
    "}\n",
    "\"\"\"\n",
    "\n",
    "response = requests.patch(url, headers=headers, data=data)\n",
    "print(response.status_code)"
   ]
  },
  {
   "cell_type": "code",
   "execution_count": 13,
   "metadata": {},
   "outputs": [
    {
     "name": "stdout",
     "output_type": "stream",
     "text": [
      "{\n",
      "  \"userId\": 1,\n",
      "  \"id\": 1,\n",
      "  \"title\": \"new_title\",\n",
      "  \"body\": \"quia et suscipit\\nsuscipit recusandae consequuntur expedita et cum\\nreprehenderit molestiae ut ut quas totam\\nnostrum rerum est autem sunt rem eveniet architecto\"\n",
      "}\n"
     ]
    }
   ],
   "source": [
    "print(response.text)"
   ]
  },
  {
   "cell_type": "code",
   "execution_count": 14,
   "metadata": {
    "colab": {
     "base_uri": "https://localhost:8080/"
    },
    "id": "DAI7hhbvy976",
    "outputId": "b3404b05-5836-4095-cdfa-294c1950fb40"
   },
   "outputs": [
    {
     "name": "stdout",
     "output_type": "stream",
     "text": [
      "200\n"
     ]
    }
   ],
   "source": [
    "url = \"https://jsonplaceholder.typicode.com/posts/1\"\n",
    "\n",
    "response = requests.delete(url, headers=headers)\n",
    "print(response.status_code)"
   ]
  },
  {
   "cell_type": "code",
   "execution_count": 15,
   "metadata": {},
   "outputs": [
    {
     "name": "stdout",
     "output_type": "stream",
     "text": [
      "{}\n"
     ]
    }
   ],
   "source": [
    "print(response.text)"
   ]
  },
  {
   "cell_type": "markdown",
   "metadata": {
    "id": "1em1y9MvzVR7"
   },
   "source": [
    "## Using APIs"
   ]
  },
  {
   "cell_type": "markdown",
   "metadata": {
    "id": "eisxFRf30Pbl"
   },
   "source": [
    "We can use APIs to interact with data sources to collect potentially complex data, or to perform actions on remote servers. Since it is not directly linked with ML in production, we will be brief here. But let's give an example regarding *data scraping*"
   ]
  },
  {
   "cell_type": "code",
   "execution_count": 16,
   "metadata": {
    "colab": {
     "base_uri": "https://localhost:8080/"
    },
    "id": "cfmwZE1G0ygK",
    "outputId": "96253efb-ea12-418a-b859-ae1589897392"
   },
   "outputs": [
    {
     "name": "stdout",
     "output_type": "stream",
     "text": [
      "{'class': 'dataset',\n",
      " 'dimension': {'geo': {'category': {'index': {'DE': 0, 'NL': 1},\n",
      "                                    'label': {'DE': 'Germany (until 1990 '\n",
      "                                                    'former territory of the '\n",
      "                                                    'FRG)',\n",
      "                                              'NL': 'Netherlands'}},\n",
      "                       'label': 'geo'},\n",
      "               'na_item': {'category': {'index': {'B1GQ': 0, 'D21': 1},\n",
      "                                        'label': {'B1GQ': 'Gross domestic '\n",
      "                                                          'product at market '\n",
      "                                                          'prices',\n",
      "                                                  'D21': 'Taxes on products'}},\n",
      "                           'label': 'na_item'},\n",
      "               'time': {'category': {'index': {'2010': 0, '2011': 1, '2012': 2},\n",
      "                                     'label': {'2010': '2010',\n",
      "                                               '2011': '2011',\n",
      "                                               '2012': '2012'}},\n",
      "                        'label': 'time'},\n",
      "               'unit': {'category': {'index': {'CLV05_MEUR': 0},\n",
      "                                     'label': {'CLV05_MEUR': 'Chain linked '\n",
      "                                                             'volumes (2005), '\n",
      "                                                             'million euro'}},\n",
      "                        'label': 'unit'}},\n",
      " 'extension': {'datasetId': 'nama_10_gdp',\n",
      "               'description': None,\n",
      "               'endOfLife': 'The WDDS service will still be operational until '\n",
      "                            '31 of January 2023 after which it will be '\n",
      "                            'decommissioned. We strongly urge users to migrate '\n",
      "                            'to the new service. This link can be useful for '\n",
      "                            'the migration: '\n",
      "                            'https://wikis.ec.europa.eu/display/EUROSTATHELP/API+Statistics+-+migrating+from+JSON+web+service+to+API+Statistics',\n",
      "               'lang': 'EN',\n",
      "               'subTitle': None},\n",
      " 'href': 'http://ec.europa.eu/eurostat/wdds/rest/data/v2.1/json/en/nama_10_gdp?precision=1&unit=CLV05_MEUR&geo=DE&geo=NL&time=2010&time=2011&time=2012&na_item=B1GQ&na_item=D21',\n",
      " 'id': ['unit', 'na_item', 'geo', 'time'],\n",
      " 'label': 'GDP and main components (output, expenditure and income)',\n",
      " 'size': [1, 2, 2, 3],\n",
      " 'source': 'Eurostat',\n",
      " 'updated': '2022-09-13',\n",
      " 'value': {'0': 2426563.7,\n",
      "           '1': 2521811.0,\n",
      "           '10': 59852.5,\n",
      "           '11': 57924.1,\n",
      "           '2': 2532364.7,\n",
      "           '3': 589946.6,\n",
      "           '4': 599097.8,\n",
      "           '5': 592925.0,\n",
      "           '6': 228301.5,\n",
      "           '7': 237271.4,\n",
      "           '8': 236319.0,\n",
      "           '9': 60631.6},\n",
      " 'version': '2.0'}\n"
     ]
    }
   ],
   "source": [
    "# Query URL\n",
    "url = 'http://ec.europa.eu/eurostat/wdds/rest/data/v2.1/json/en/nama_10_gdp' \n",
    "\n",
    "params = {\n",
    "  'precision':1,\n",
    "  'unit': 'CLV05_MEUR',  # Unit: CLV (2005) Million EUR\n",
    "  'geo': ['DE', 'NL'],  # Country: Germany and Netherlands\n",
    "  'time': ['2010', '2011', '2012'],  # Years: 2010, 2011, 2012\n",
    "  'na_item': ['B1GQ', 'D21']  # GDP (market prices) & taxes on products\n",
    "} \n",
    "\n",
    "reponse = requests.get(url, params=params)\n",
    "\n",
    "pprint(reponse.json())"
   ]
  },
  {
   "cell_type": "markdown",
   "metadata": {
    "id": "196ZQCOI3sz1"
   },
   "source": [
    "One can see that there is a little bit of data transformation to perform to exploit these data and we will stop here, in order to get back to our topic of interest"
   ]
  },
  {
   "cell_type": "markdown",
   "metadata": {
    "id": "FAT_inXEz3Kd"
   },
   "source": [
    "All that is very nice, how can it be useful for us to put machine learning models in production?\n",
    "\n",
    "Well precisely, we are going to deploy our models through REST APIs. As model providers, we won't be the one *using* the APIs, we will be the one *creating* the APIs. Our users will query these models, sending their data as `POST` requests parameters and our APIs will send back the corresponding prediction"
   ]
  },
  {
   "cell_type": "markdown",
   "metadata": {
    "id": "U5pnDyKb_CsV"
   },
   "source": [
    "## Creating APIs"
   ]
  },
  {
   "cell_type": "markdown",
   "metadata": {
    "id": "6OZoeEzNDLfM"
   },
   "source": [
    "## Creating a simple API"
   ]
  },
  {
   "cell_type": "markdown",
   "metadata": {},
   "source": [
    "The following cells assume you are running the Flask application, provided in GitHub."
   ]
  },
  {
   "cell_type": "markdown",
   "metadata": {},
   "source": [
    "From your terminal, in the `basic_flask` directory:\n",
    "1. activate the virtual environment\n",
    "    ``` bash\n",
    "    source ./venv/bin/activate\n",
    "    ```\n",
    "2. Run your Flask application (`ctrl^` + `C`  to stop)\n",
    "    ``` bash\n",
    "    FLASK_APP=\"./app/app.py\" flask run --host=\"0.0.0.0\"\n",
    "    ```"
   ]
  },
  {
   "cell_type": "markdown",
   "metadata": {},
   "source": [
    "### 0. Random "
   ]
  },
  {
   "cell_type": "code",
   "execution_count": 22,
   "metadata": {},
   "outputs": [
    {
     "name": "stdout",
     "output_type": "stream",
     "text": [
      "{\"score\":0.2184898993898542}\r\n"
     ]
    }
   ],
   "source": [
    "# cURL\n",
    "!curl \"http://127.0.0.1:5000/predict\""
   ]
  },
  {
   "cell_type": "code",
   "execution_count": 23,
   "metadata": {},
   "outputs": [
    {
     "name": "stdout",
     "output_type": "stream",
     "text": [
      "{\"score\":0.07463405065111761}\n",
      "\n"
     ]
    }
   ],
   "source": [
    "# Python requests\n",
    "response = requests.get('http://127.0.0.1:5000/predict')\n",
    "print(response.text)"
   ]
  },
  {
   "cell_type": "markdown",
   "metadata": {},
   "source": [
    "### 1.0 Univariate threshold"
   ]
  },
  {
   "cell_type": "code",
   "execution_count": 38,
   "metadata": {},
   "outputs": [
    {
     "name": "stdout",
     "output_type": "stream",
     "text": [
      "{\"score\":0.1}\r\n"
     ]
    }
   ],
   "source": [
    "# cURL\n",
    "!curl -X GET \"http://127.0.0.1:5000/predict?debt_ratio=0.1\""
   ]
  },
  {
   "cell_type": "code",
   "execution_count": 39,
   "metadata": {},
   "outputs": [
    {
     "name": "stdout",
     "output_type": "stream",
     "text": [
      "{\"score\":0.4}\r\n"
     ]
    }
   ],
   "source": [
    "# cURL, different syntax\n",
    "!curl -G http://127.0.0.1:5000/predict -d \"debt_ratio=0.4\""
   ]
  },
  {
   "cell_type": "code",
   "execution_count": 40,
   "metadata": {},
   "outputs": [
    {
     "name": "stdout",
     "output_type": "stream",
     "text": [
      "{\"score\":0.4}\n",
      "\n"
     ]
    }
   ],
   "source": [
    "# Python requests\n",
    "response = requests.get('http://127.0.0.1:5000/predict', params={\"debt_ratio\": 0.4})\n",
    "print(response.text)"
   ]
  },
  {
   "cell_type": "markdown",
   "metadata": {},
   "source": [
    "### 1.1 Univariate threshold - batch"
   ]
  },
  {
   "cell_type": "code",
   "execution_count": 45,
   "metadata": {},
   "outputs": [
    {
     "name": "stdout",
     "output_type": "stream",
     "text": [
      "{\"scores\":[{\"id\":\"1\",\"score\":0.6},{\"id\":\"2\",\"score\":0.1}]}\r\n"
     ]
    }
   ],
   "source": [
    "# cURL\n",
    "!curl -X POST -H \"Content-type: application/json\" -d '[{\"id\": \"1\", \"debt_ratio\": 0.6}, {\"id\": \"2\", \"debt_ratio\": 0.1}]' http://127.0.0.1:5000/predict"
   ]
  },
  {
   "cell_type": "code",
   "execution_count": 46,
   "metadata": {},
   "outputs": [
    {
     "name": "stdout",
     "output_type": "stream",
     "text": [
      "{\"scores\":[{\"id\":\"1\",\"score\":0.6},{\"id\":\"2\",\"score\":0.1}]}\n",
      "\n"
     ]
    }
   ],
   "source": [
    "# Python requests - using 'json' param\n",
    "response = requests.post(\n",
    "    'http://127.0.0.1:5000/predict',\n",
    "    json=[{\"id\": \"1\", \"debt_ratio\": 0.6}, {\"id\": \"2\", \"debt_ratio\": 0.1}],\n",
    ")\n",
    "print(response.text)"
   ]
  },
  {
   "cell_type": "code",
   "execution_count": 48,
   "metadata": {},
   "outputs": [
    {
     "name": "stdout",
     "output_type": "stream",
     "text": [
      "{\"scores\":[{\"id\":\"001\",\"score\":0.6},{\"id\":\"002\",\"score\":0.1}]}\n",
      "\n"
     ]
    }
   ],
   "source": [
    "# Python requests - using 'data' param\n",
    "response = requests.post(\n",
    "    'http://127.0.0.1:5000/predict',\n",
    "    data='[{\"id\": \"001\", \"debt_ratio\": 0.6}, {\"id\": \"002\", \"debt_ratio\": 0.1}]', # 'data' accepts string object\n",
    "    headers={'content-type': 'application/json'} # but requires content-type specifications\n",
    ")\n",
    "print(response.text)"
   ]
  },
  {
   "cell_type": "markdown",
   "metadata": {},
   "source": [
    "### 2. Trained model"
   ]
  },
  {
   "cell_type": "markdown",
   "metadata": {},
   "source": [
    "Train the model (may take a few seconds)"
   ]
  },
  {
   "cell_type": "code",
   "execution_count": 55,
   "metadata": {},
   "outputs": [
    {
     "name": "stdout",
     "output_type": "stream",
     "text": [
      "{\"message\":\"Model successfully updated\",\"status\":\"success\"}\n",
      "\n"
     ]
    }
   ],
   "source": [
    "response = requests.get('http://127.0.0.1:5000/train')\n",
    "print(response.text)"
   ]
  },
  {
   "cell_type": "markdown",
   "metadata": {},
   "source": [
    "Use it to make a prediction"
   ]
  },
  {
   "cell_type": "code",
   "execution_count": 58,
   "metadata": {
    "id": "mXZVw7ztuIAZ"
   },
   "outputs": [
    {
     "name": "stdout",
     "output_type": "stream",
     "text": [
      "{'scores': [0.4657153920940945, 0.08369942464280865]}\n"
     ]
    }
   ],
   "source": [
    "url = 'http://127.0.0.1:5000' + '/predict'\n",
    "\n",
    "headers = {\"Content-Type\": \"application/json\"}\n",
    "\n",
    "data = \"\"\"\n",
    "[\n",
    "  {\n",
    "     \"RevolvingUtilizationOfUnsecuredLines\":0.766126609,\n",
    "     \"age\":45.0,\n",
    "     \"NumberOfTime30-59DaysPastDueNotWorse\":2.0,\n",
    "     \"DebtRatio\":0.802982129,\n",
    "     \"MonthlyIncome\":9120.0,\n",
    "     \"NumberOfOpenCreditLinesAndLoans\":13.0,\n",
    "     \"NumberOfTimes90DaysLate\":0.0,\n",
    "     \"NumberRealEstateLoansOrLines\":6.0,\n",
    "     \"NumberOfTime60-89DaysPastDueNotWorse\":0.0,\n",
    "     \"NumberOfDependents\":2.0\n",
    "  },\n",
    "  {\n",
    "     \"DebtRatio\": 0.121876201,\n",
    "     \"MonthlyIncome\": 2600.0,\n",
    "     \"NumberOfDependents\": 1.0,\n",
    "     \"NumberOfOpenCreditLinesAndLoans\": 4,\n",
    "     \"NumberOfTime30-59DaysPastDueNotWorse\": 0,\n",
    "     \"NumberOfTime60-89DaysPastDueNotWorse\": 0,\n",
    "     \"NumberOfTimes90DaysLate\": 0,\n",
    "     \"NumberRealEstateLoansOrLines\": 0,\n",
    "     \"RevolvingUtilizationOfUnsecuredLines\": 0.957151019,\n",
    "     \"age\": 40\n",
    "  }\n",
    "]\n",
    "\"\"\"\n",
    "\n",
    "response = requests.post(url, headers=headers, data=data)\n",
    "if response.ok:\n",
    "    pprint(response.json())\n",
    "else:\n",
    "    print(\"Error, status code: \", response.status_code)"
   ]
  },
  {
   "cell_type": "markdown",
   "metadata": {},
   "source": [
    "Try adjuting some values, e.g. `MonthlyIncome` , `NumberOfTimes90DaysLate` and `NumberOfDependents`"
   ]
  },
  {
   "cell_type": "markdown",
   "metadata": {},
   "source": [
    "### WSGI: Using Gunicorn"
   ]
  },
  {
   "cell_type": "markdown",
   "metadata": {},
   "source": [
    "We've been sending HTTP requests to run Python scripts. Something has to make the 'translation' from HTTP to Python. That's WSGI."
   ]
  },
  {
   "cell_type": "markdown",
   "metadata": {},
   "source": [
    "WSGI is a convention framework for web servers to forward requests to web applications or frameworks written in the Python programming language"
   ]
  },
  {
   "cell_type": "markdown",
   "metadata": {},
   "source": [
    "Here's what's going on under the hood:"
   ]
  },
  {
   "cell_type": "markdown",
   "metadata": {},
   "source": [
    "<img src=\"https://res.cloudinary.com/practicaldev/image/fetch/s--Aozu6gS4--/c_limit%2Cf_auto%2Cfl_progressive%2Cq_auto%2Cw_880/https://dev-to-uploads.s3.amazonaws.com/uploads/articles/56zf2r5ljmujm2jwtz8y.jpg\"/>\n"
   ]
  },
  {
   "cell_type": "markdown",
   "metadata": {},
   "source": [
    "Flask comes with a built-in WSGI server (`werkzeug`).\n",
    "\n",
    "It is meant for development purposes only, and should not be used in production.\n",
    "\n",
    "Cf. message in terminal when launching Flask:\n",
    "```\n",
    "   WARNING: This is a development server. Do not use it in a production deployment.\n",
    "   Use a production WSGI server instead.\n",
    "```\n",
    "\n",
    "\n",
    "**What's the problem with `werkzeug`?**\n",
    "- It will not handle more than one request at a time by default.\n",
    "- If you leave debug mode on and an error pops up, it opens up a shell that allows for arbitrary code to be executed on your server (think `os.system('rm -rf /')`).\n",
    "- The development server doesn't scale well.\n",
    "\n",
    "Source: https://stackoverflow.com/questions/12269537/is-the-server-bundled-with-flask-safe-to-use-in-production\n",
    "\n",
    "\n",
    "\n",
    "**What can we use instead?**\n",
    "\n",
    "Gunicorn or uWSGI.\n",
    "\n"
   ]
  },
  {
   "cell_type": "markdown",
   "metadata": {},
   "source": [
    "*Note: same goes for the **web server**: Flask comes with a native development solution. For production purposes, an **Nginx** web server is more appropriate as we will see in the next lectures.*"
   ]
  },
  {
   "cell_type": "markdown",
   "metadata": {},
   "source": [
    "### Let's get it running"
   ]
  },
  {
   "cell_type": "markdown",
   "metadata": {},
   "source": [
    "From your terminal, still in the `basic_flask` directory, run:\n",
    "``` bash\n",
    "gunicorn --workers 9 --bind 0.0.0.0:5000 app.app:app\n",
    "```"
   ]
  },
  {
   "cell_type": "markdown",
   "metadata": {},
   "source": [
    "Where `app.app:app` is of the pattern `$(MODULE_NAME):$(VARIABLE_NAME)`. The module name can be a full dotted path. The variable name refers to a WSGI callable that should be found in the specified module."
   ]
  },
  {
   "cell_type": "markdown",
   "metadata": {},
   "source": [
    "Re-run our previous call"
   ]
  },
  {
   "cell_type": "code",
   "execution_count": 60,
   "metadata": {},
   "outputs": [
    {
     "data": {
      "text/plain": [
       "'{\"scores\":[0.4657153920940945,0.08369942464280865]}\\n'"
      ]
     },
     "execution_count": 60,
     "metadata": {},
     "output_type": "execute_result"
    }
   ],
   "source": [
    "response = requests.post(url, headers=headers, data=data)\n",
    "response.text"
   ]
  },
  {
   "cell_type": "markdown",
   "metadata": {},
   "source": [
    "It still works the same, except this will scale much better once we start serving 10, 100, 1000 calls per second."
   ]
  }
 ],
 "metadata": {
  "colab": {
   "name": "Session4.ipynb",
   "provenance": [],
   "toc_visible": true
  },
  "kernelspec": {
   "display_name": "Python 3",
   "language": "python",
   "name": "python3"
  },
  "language_info": {
   "codemirror_mode": {
    "name": "ipython",
    "version": 3
   },
   "file_extension": ".py",
   "mimetype": "text/x-python",
   "name": "python",
   "nbconvert_exporter": "python",
   "pygments_lexer": "ipython3",
   "version": "3.7.1"
  }
 },
 "nbformat": 4,
 "nbformat_minor": 1
}
